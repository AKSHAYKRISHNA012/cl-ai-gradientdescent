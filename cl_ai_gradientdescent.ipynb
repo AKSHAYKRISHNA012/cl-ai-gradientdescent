{
  "nbformat": 4,
  "nbformat_minor": 0,
  "metadata": {
    "colab": {
      "provenance": [],
      "authorship_tag": "ABX9TyODjvtacfWoQDOs7u8qaxyR",
      "include_colab_link": true
    },
    "kernelspec": {
      "name": "python3",
      "display_name": "Python 3"
    },
    "language_info": {
      "name": "python"
    }
  },
  "cells": [
    {
      "cell_type": "markdown",
      "metadata": {
        "id": "view-in-github",
        "colab_type": "text"
      },
      "source": [
        "<a href=\"https://colab.research.google.com/github/AKSHAYKRISHNA012/cl-ai-gradientdescent/blob/main/cl_ai_gradientdescent.ipynb\" target=\"_parent\"><img src=\"https://colab.research.google.com/assets/colab-badge.svg\" alt=\"Open In Colab\"/></a>"
      ]
    },
    {
      "cell_type": "code",
      "execution_count": 1,
      "metadata": {
        "id": "dvSRF35JL7mq"
      },
      "outputs": [],
      "source": [
        "import torch\n",
        "import torch.nn.functional as F\n",
        "import matplotlib.pyplot as plt\n"
      ]
    },
    {
      "cell_type": "code",
      "source": [
        "# Input data (x values)\n",
        "x = torch.linspace(-5, 5, 100).unsqueeze(1)\n",
        "\n",
        "# True output for the equation: y = 2x³ - 3x² + x - 5\n",
        "true_y = 2 * x**3 - 3 * x**2 + x - 5\n"
      ],
      "metadata": {
        "id": "BJ4rzXp0L_3J"
      },
      "execution_count": 2,
      "outputs": []
    },
    {
      "cell_type": "code",
      "source": [
        "# Random initialization of coefficients with gradients\n",
        "a = torch.randn(1, requires_grad=True)\n",
        "b = torch.randn(1, requires_grad=True)\n",
        "c = torch.randn(1, requires_grad=True)\n",
        "d = torch.randn(1, requires_grad=True)\n"
      ],
      "metadata": {
        "id": "OUyjLyEBMDmb"
      },
      "execution_count": 3,
      "outputs": []
    },
    {
      "cell_type": "code",
      "source": [
        "# Set learning rate and optimizer\n",
        "lr = 1e-4\n",
        "optimizer = torch.optim.SGD([a, b, c, d], lr=lr)\n"
      ],
      "metadata": {
        "id": "dvCOCy97MFfZ"
      },
      "execution_count": 4,
      "outputs": []
    },
    {
      "cell_type": "code",
      "source": [
        "# Train the model using Stochastic Gradient Descent\n",
        "for epoch in range(2000):\n",
        "    optimizer.zero_grad()\n",
        "\n",
        "    # Predicted output using current coefficients\n",
        "    y_pred = a * x**3 + b * x**2 + c * x + d\n",
        "    y_pred = F.relu(y_pred)  # Apply ReLU activation\n",
        "\n",
        "    # Calculate loss (MSE between predicted and true output, both with ReLU)\n",
        "    loss = F.mse_loss(y_pred, F.relu(true_y))\n",
        "\n",
        "    # Backpropagation and optimization step\n",
        "    loss.backward()\n",
        "    optimizer.step()\n",
        "\n",
        "    if epoch % 200 == 0:\n",
        "        print(f\"Epoch {epoch}, Loss: {loss.item():.4f}\")\n"
      ],
      "metadata": {
        "colab": {
          "base_uri": "https://localhost:8080/"
        },
        "id": "jtCgwWQrMICl",
        "outputId": "af333504-e65e-4f4d-e35d-6982f2ba9544"
      },
      "execution_count": 5,
      "outputs": [
        {
          "output_type": "stream",
          "name": "stdout",
          "text": [
            "Epoch 0, Loss: 1007.5911\n",
            "Epoch 200, Loss: 31.4720\n",
            "Epoch 400, Loss: 25.8837\n",
            "Epoch 600, Loss: 21.3112\n",
            "Epoch 800, Loss: 17.5687\n",
            "Epoch 1000, Loss: 14.5034\n",
            "Epoch 1200, Loss: 11.9901\n",
            "Epoch 1400, Loss: 9.9268\n",
            "Epoch 1600, Loss: 8.2304\n",
            "Epoch 1800, Loss: 6.8335\n"
          ]
        }
      ]
    },
    {
      "cell_type": "code",
      "source": [
        "# Print the learned values of a, b, c, d\n",
        "print(\"\\nLearned Coefficients:\")\n",
        "print(f\"a = {a.item():.4f}\")\n",
        "print(f\"b = {b.item():.4f}\")\n",
        "print(f\"c = {c.item():.4f}\")\n",
        "print(f\"d = {d.item():.4f}\")\n"
      ],
      "metadata": {
        "colab": {
          "base_uri": "https://localhost:8080/"
        },
        "id": "1Iu7npwMMK_r",
        "outputId": "9d6b849d-0a0f-493e-fad1-8207857478e6"
      },
      "execution_count": 6,
      "outputs": [
        {
          "output_type": "stream",
          "name": "stdout",
          "text": [
            "\n",
            "Learned Coefficients:\n",
            "a = 1.6755\n",
            "b = -1.5470\n",
            "c = -0.3195\n",
            "d = -0.4894\n"
          ]
        }
      ]
    },
    {
      "cell_type": "code",
      "source": [
        "# Plot the actual vs predicted outputs\n",
        "plt.plot(x.detach(), F.relu(true_y).detach(), label=\"True (ReLU)\")\n",
        "plt.plot(x.detach(), y_pred.detach(), label=\"Predicted\")\n",
        "plt.legend()\n",
        "plt.title(\"Cubic Equation Fit using SGD + ReLU\")\n",
        "plt.xlabel(\"x\")\n",
        "plt.ylabel(\"y\")\n",
        "plt.grid(True)\n",
        "plt.show()\n"
      ],
      "metadata": {
        "colab": {
          "base_uri": "https://localhost:8080/",
          "height": 472
        },
        "id": "eEqpMJ9xMNBv",
        "outputId": "d14c1c37-b03b-42ee-f6c3-ab5c7ced3944"
      },
      "execution_count": 7,
      "outputs": [
        {
          "output_type": "display_data",
          "data": {
            "text/plain": [
              "<Figure size 640x480 with 1 Axes>"
            ],
            "image/png": "[encoded data removed]"
          },
          "metadata": {}
        }
      ]
    }
  ]
}